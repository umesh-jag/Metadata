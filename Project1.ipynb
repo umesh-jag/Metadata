{
  "nbformat": 4,
  "nbformat_minor": 0,
  "metadata": {
    "colab": {
      "provenance": []
    },
    "kernelspec": {
      "name": "python3",
      "display_name": "Python 3"
    },
    "language_info": {
      "name": "python"
    }
  },
  "cells": [
    {
      "cell_type": "code",
      "execution_count": 13,
      "metadata": {
        "id": "vCLsl-hiMYsr"
      },
      "outputs": [],
      "source": [
        "# Uses the Python Imaging Library\n",
        "from PIL import Image\n",
        "\n",
        "image_filename = \"picture_without_EXIF.jpg\"\n",
        "image_file = open('/content/IMG_20220613_18493.jpg')\n",
        "image = Image.open('/content/IMG_20220613_18493.jpg')\n",
        "\n",
        "# next 3 lines strip exif\n",
        "image_data = list(image.getdata())\n",
        "image_without_exif = Image.new(image.mode, image.size)\n",
        "image_without_exif.putdata(image_data)\n",
        "\n",
        "image_without_exif.save(u\"clean_{}\".format(image_filename))"
      ]
    }
  ]
}